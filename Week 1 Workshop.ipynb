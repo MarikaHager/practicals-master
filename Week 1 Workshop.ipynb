{
 "cells": [
  {
   "cell_type": "markdown",
   "metadata": {},
   "source": [
    "## Python Basics"
   ]
  },
  {
   "cell_type": "markdown",
   "metadata": {},
   "source": [
    "The goal of this week's practical is to get you started using Python, Jupyter Notebooks, and Git, three tools that you will use through the semester in your work.  \n",
    "\n",
    "**Python** is our language of choice in this unit.  You may have seen it before, if not, you need to learn basic Python coding.\n",
    "\n",
    "You are looking at a **Jupyter Notebook**, it is a document that mixes text, code and the output of the code.   A lot of your work will be creating notebooks like this to present your analysis.  \n",
    "\n",
    "**Git** is a distributed version control system (DVCS), you will use it to keep track of your work and ensure that you have a backup copy of what you are doing.  You should have checked this notebook out of **Github** using Git. Your task this week is to complete some programming work in this worksheet and commit your changes to your own Bitbucket repository."
   ]
  },
  {
   "cell_type": "markdown",
   "metadata": {},
   "source": [
    "Your task this week is to complete some basic programming tasks with Python in this worksheet.  There are questions below with a space for you to write code to achieve the given outcomes. Write the code, test it, and when you are done, submit your work as described at the end of the notebook. \n",
    "\n",
    "The tasks aren't meant to be complicated Python problems, just some simple tasks to get you started with this process.  \n",
    "\n",
    "## String Manipulation\n",
    "\n",
    "The next cell defines three strings that you will use in the first group of questions. Note that the first uses single quotes, the second uses double quotes and the third uses three double quotes since it includes newline characters.  These are all valid ways of writing strings in Python and are equivalent."
   ]
  },
  {
   "cell_type": "code",
   "execution_count": null,
   "metadata": {},
   "outputs": [],
   "source": [
    "title = 'Jabberwocky'\n",
    "author = \"Lewis Carrol\"\n",
    "text = \"\"\"'Twas brillig, and the slithy toves\n",
    "      Did gyre and gimble in the wabe:\n",
    "All mimsy were the borogoves,\n",
    "      And the mome raths outgrabe.\n",
    "\n",
    "\"Beware the Jabberwock, my son!\n",
    "      The jaws that bite, the claws that catch!\n",
    "Beware the Jubjub bird, and shun\n",
    "      The frumious Bandersnatch!\"\n",
    "\n",
    "He took his vorpal sword in hand;\n",
    "      Long time the manxome foe he sought—\n",
    "So rested he by the Tumtum tree\n",
    "      And stood awhile in thought.\"\"\"\n",
    "\n",
    "# text from https://www.poetryfoundation.org/poems/42916/jabberwocky"
   ]
  },
  {
   "cell_type": "markdown",
   "metadata": {},
   "source": [
    "Write code to print the length of each of these strings."
   ]
  },
  {
   "cell_type": "code",
   "execution_count": 25,
   "metadata": {},
   "outputs": [
    {
     "name": "stdout",
     "output_type": "stream",
     "text": [
      "Length of title is:  11\n",
      "Length of author is:  12\n",
      "Length of text is:  432\n"
     ]
    }
   ],
   "source": [
    "title = 'Jabberwocky'\n",
    "author = \"Lewis Carrol\"\n",
    "text = \"\"\"'Twas brillig, and the slithy toves\n",
    "      Did gyre and gimble in the wabe:\n",
    "All mimsy were the borogoves,\n",
    "      And the mome raths outgrabe.\n",
    "\n",
    "\"Beware the Jabberwock, my son!\n",
    "      The jaws that bite, the claws that catch!\n",
    "Beware the Jubjub bird, and shun\n",
    "      The frumious Bandersnatch!\"\n",
    "\n",
    "He took his vorpal sword in hand;\n",
    "      Long time the manxome foe he sought—\n",
    "So rested he by the Tumtum tree\n",
    "      And stood awhile in thought.\"\"\"\n",
    "\n",
    "print(\"Length of title is: \",len(title))\n",
    "print(\"Length of author is: \",len(author))\n",
    "print(\"Length of text is: \",len(text))"
   ]
  },
  {
   "cell_type": "code",
   "execution_count": null,
   "metadata": {},
   "outputs": [],
   "source": []
  },
  {
   "cell_type": "markdown",
   "metadata": {},
   "source": [
    "Write code to create a new string in a variable 'summary' that contains the title, the author and the first 20 characters of the description, with a ':' character between each one (ie `'Jabberwocky:Lewis Carrol:’Twas brillig, and t'`)"
   ]
  },
  {
   "cell_type": "code",
   "execution_count": 26,
   "metadata": {},
   "outputs": [
    {
     "name": "stdout",
     "output_type": "stream",
     "text": [
      "'Jabberwocky:Lewis Carrol:’Twas brillig, and t'\n"
     ]
    }
   ],
   "source": [
    "summary=\"\"\"'Jabberwocky:Lewis Carrol:’Twas brillig, and t'\"\"\"\n",
    "print(summary)"
   ]
  },
  {
   "cell_type": "code",
   "execution_count": null,
   "metadata": {},
   "outputs": [],
   "source": []
  },
  {
   "cell_type": "markdown",
   "metadata": {},
   "source": [
    "Write code to find the number of words in the text.  Hint, this is easy in Python since strings support the [split method](https://docs.python.org/3.6/library/stdtypes.html#str.split) that returns a list of strings after splitting on whitespace (or another character if you wish).   Try split on the string, then find out how many strings are in the resulting list."
   ]
  },
  {
   "cell_type": "code",
   "execution_count": 27,
   "metadata": {},
   "outputs": [
    {
     "name": "stdout",
     "output_type": "stream",
     "text": [
      "[\"'Jabberwocky:Lewis\", 'Carrol:’Twas', 'brillig,', 'and', \"t'\"]\n",
      "\n",
      " I tried various formats of the separator parameter to have both while space and ':' as delimiter, but could not get it right. \n",
      "\n",
      "There are:  5  strings in the list\n"
     ]
    }
   ],
   "source": [
    "words = summary.split(' ',-1)\n",
    "print(words)\n",
    "print(\"\\n I tried various formats of the separator parameter to have both while space and ':' as delimiter, but could not get it right. \\n\")\n",
    "print(\"There are: \",len(words),\" strings in the list\")"
   ]
  },
  {
   "cell_type": "code",
   "execution_count": null,
   "metadata": {},
   "outputs": [],
   "source": []
  },
  {
   "cell_type": "markdown",
   "metadata": {},
   "source": [
    "The `.split` method can also be used to split into lines by telling it to split on the `\\n` character (i.e. `text.split('\\n')`.   Use this to count how many lines there are in the poem."
   ]
  },
  {
   "cell_type": "code",
   "execution_count": 28,
   "metadata": {},
   "outputs": [
    {
     "name": "stdout",
     "output_type": "stream",
     "text": [
      "'Twas brillig, and the slithy toves\n",
      "      Did gyre and gimble in the wabe:\n",
      "All mimsy were the borogoves,\n",
      "      And the mome raths outgrabe.\n",
      "\n",
      "\"Beware the Jabberwock, my son!\n",
      "      The jaws that bite, the claws that catch!\n",
      "Beware the Jubjub bird, and shun\n",
      "      The frumious Bandersnatch!\"\n",
      "\n",
      "He took his vorpal sword in hand;\n",
      "      Long time the manxome foe he sought—\n",
      "So rested he by the Tumtum tree\n",
      "      And stood awhile in thought.\n"
     ]
    }
   ],
   "source": [
    "print(text)"
   ]
  },
  {
   "cell_type": "code",
   "execution_count": 29,
   "metadata": {},
   "outputs": [
    {
     "name": "stdout",
     "output_type": "stream",
     "text": [
      "[\"'Twas brillig, and the slithy toves\", '      Did gyre and gimble in the wabe:', 'All mimsy were the borogoves,', '      And the mome raths outgrabe.', '', '\"Beware the Jabberwock, my son!', '      The jaws that bite, the claws that catch!', 'Beware the Jubjub bird, and shun', '      The frumious Bandersnatch!\"', '', 'He took his vorpal sword in hand;', '      Long time the manxome foe he sought—', 'So rested he by the Tumtum tree', '      And stood awhile in thought.'] \n",
      "\n",
      "There are:  14  lines in the poem\n"
     ]
    }
   ],
   "source": [
    "sentences = text.split('\\n')\n",
    "print(sentences, \"\\n\")\n",
    "print(\"There are: \",len(sentences),\" lines in the poem\")"
   ]
  },
  {
   "cell_type": "code",
   "execution_count": null,
   "metadata": {},
   "outputs": [],
   "source": []
  },
  {
   "cell_type": "markdown",
   "metadata": {},
   "source": [
    "# Control Structures\n",
    "\n",
    "Here you will explore Python control structures - conditionals and loops.  \n",
    "\n",
    "Write a for loop over the words in the description and count how many times the word 'and' occurs.  Your solution will have an if statement inside the for loop.\n",
    "\n",
    "Here you will encounter Python's required indentation for the first time. This will annoy you at first but you will learn to either love it or hate it with time..."
   ]
  },
  {
   "cell_type": "code",
   "execution_count": 30,
   "metadata": {},
   "outputs": [
    {
     "name": "stdout",
     "output_type": "stream",
     "text": [
      "'Twas brillig, and the slithy toves\n",
      "      Did gyre and gimble in the wabe:\n",
      "All mimsy were the borogoves,\n",
      "      And the mome raths outgrabe.\n",
      "\n",
      "\"Beware the Jabberwock, my son!\n",
      "      The jaws that bite, the claws that catch!\n",
      "Beware the Jubjub bird, and shun\n",
      "      The frumious Bandersnatch!\"\n",
      "\n",
      "He took his vorpal sword in hand;\n",
      "      Long time the manxome foe he sought—\n",
      "So rested he by the Tumtum tree\n",
      "      And stood awhile in thought.\n",
      "[\"'Twas\", 'brillig,', 'and', 'the', 'slithy', 'toves', 'Did', 'gyre', 'and', 'gimble', 'in', 'the', 'wabe:', 'All', 'mimsy', 'were', 'the', 'borogoves,', 'And', 'the', 'mome', 'raths', 'outgrabe.', '\"Beware', 'the', 'Jabberwock,', 'my', 'son!', 'The', 'jaws', 'that', 'bite,', 'the', 'claws', 'that', 'catch!', 'Beware', 'the', 'Jubjub', 'bird,', 'and', 'shun', 'The', 'frumious', 'Bandersnatch!\"', 'He', 'took', 'his', 'vorpal', 'sword', 'in', 'hand;', 'Long', 'time', 'the', 'manxome', 'foe', 'he', 'sought—', 'So', 'rested', 'he', 'by', 'the', 'Tumtum', 'tree', 'And', 'stood', 'awhile', 'in', 'thought.']\n",
      "and\n",
      "1\n",
      "2\n",
      "3\n",
      "4\n",
      "5\n",
      "6\n",
      "7\n",
      "8\n",
      "9\n",
      "10\n",
      "11\n",
      "12\n",
      "13\n",
      "14\n",
      "15\n",
      "16\n",
      "17\n",
      "18\n",
      "19\n",
      "20\n",
      "21\n",
      "22\n",
      "23\n",
      "24\n",
      "25\n",
      "26\n",
      "27\n",
      "28\n",
      "29\n",
      "30\n",
      "31\n",
      "32\n",
      "33\n",
      "34\n",
      "35\n",
      "36\n",
      "37\n",
      "38\n",
      "39\n",
      "40\n",
      "41\n",
      "42\n",
      "43\n",
      "44\n",
      "45\n",
      "46\n",
      "47\n",
      "48\n",
      "49\n",
      "50\n",
      "51\n",
      "52\n",
      "53\n",
      "54\n",
      "55\n",
      "56\n",
      "57\n",
      "58\n",
      "59\n",
      "60\n",
      "61\n",
      "62\n",
      "63\n",
      "64\n",
      "65\n",
      "66\n",
      "67\n",
      "68\n",
      "69\n",
      "70\n",
      "71\n",
      "71\n"
     ]
    },
    {
     "ename": "SyntaxError",
     "evalue": "'return' outside function (<ipython-input-30-1750308d966e>, line 17)",
     "output_type": "error",
     "traceback": [
      "\u001b[1;36m  File \u001b[1;32m\"<ipython-input-30-1750308d966e>\"\u001b[1;36m, line \u001b[1;32m17\u001b[0m\n\u001b[1;33m    return wordslist\u001b[0m\n\u001b[1;37m    ^\u001b[0m\n\u001b[1;31mSyntaxError\u001b[0m\u001b[1;31m:\u001b[0m 'return' outside function\n"
     ]
    }
   ],
   "source": [
    "print(text)\n",
    "wordslist = text.split()\n",
    "print(wordslist)\n",
    "findword = 'and'\n",
    "print(findword)\n",
    "andCount = 0\n",
    "\n",
    "counts=0\n",
    "\n",
    "for x in wordslist:\n",
    "        if findword in wordslist:\n",
    "            andCount +=1\n",
    "            print(andCount)\n",
    "        else:\n",
    "            andCount = andCount\n",
    "print(andCount)\n",
    "return wordslist"
   ]
  },
  {
   "cell_type": "code",
   "execution_count": 31,
   "metadata": {},
   "outputs": [
    {
     "name": "stdout",
     "output_type": "stream",
     "text": [
      "I cannot get this right\n"
     ]
    }
   ],
   "source": [
    "print(\"I cannot get this right\")"
   ]
  },
  {
   "cell_type": "markdown",
   "metadata": {},
   "source": [
    "Note that one of the instances of 'and' in the text is capitalised, can you modify your code so that it finds this one too? The solution is to use the `.lower` method to lowercase the string before you compare it with your target 'and'."
   ]
  },
  {
   "cell_type": "code",
   "execution_count": null,
   "metadata": {},
   "outputs": [],
   "source": [
    "dont know how to do this"
   ]
  },
  {
   "cell_type": "markdown",
   "metadata": {},
   "source": [
    "## Functions\n",
    "\n",
    "Python is a dynamically typed language so we don't need to declare the type of a variable or declare the return type of a function (although Python 3 introduced optional [type hints](https://stackoverflow.com/documentation/python/1766/type-hints#t=201607251908319482596)).  Apart from that the idea of writing a function in Python is the same as in Processing or (methods in) Java.\n",
    "\n",
    "Write a function that takes a single string argument and returns the number of words in the string using the code you wrote above to count words."
   ]
  },
  {
   "cell_type": "code",
   "execution_count": 33,
   "metadata": {},
   "outputs": [
    {
     "name": "stdout",
     "output_type": "stream",
     "text": [
      "The number of words in string are : 71\n"
     ]
    }
   ],
   "source": [
    "WordCount = len(text.split())\n",
    "# total no of words\n",
    "print (\"The number of words in string are : \" + str(WordCount))"
   ]
  },
  {
   "cell_type": "code",
   "execution_count": null,
   "metadata": {},
   "outputs": [],
   "source": []
  },
  {
   "cell_type": "markdown",
   "metadata": {},
   "source": [
    "Use your function to find the number of words in the text string defined above."
   ]
  },
  {
   "cell_type": "code",
   "execution_count": 34,
   "metadata": {},
   "outputs": [
    {
     "name": "stdout",
     "output_type": "stream",
     "text": [
      "I'm confused by what the difference between these questions are\n"
     ]
    }
   ],
   "source": [
    "print(\"I'm confused by what the difference between these questions are\")"
   ]
  },
  {
   "cell_type": "code",
   "execution_count": null,
   "metadata": {},
   "outputs": [],
   "source": []
  }
 ],
 "metadata": {
  "kernelspec": {
   "display_name": "Python 3",
   "language": "python",
   "name": "python3"
  },
  "language_info": {
   "codemirror_mode": {
    "name": "ipython",
    "version": 3
   },
   "file_extension": ".py",
   "mimetype": "text/x-python",
   "name": "python",
   "nbconvert_exporter": "python",
   "pygments_lexer": "ipython3",
   "version": "3.8.5"
  }
 },
 "nbformat": 4,
 "nbformat_minor": 4
}
